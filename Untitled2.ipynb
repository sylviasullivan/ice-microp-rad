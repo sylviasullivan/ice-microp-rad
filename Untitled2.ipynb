{
 "cells": [
  {
   "cell_type": "code",
   "execution_count": null,
   "metadata": {},
   "outputs": [],
   "source": [
    "import xarray as xr\n",
    "import numpy as np\n",
    "import matplotlib.pyplot as plt"
   ]
  },
  {
   "cell_type": "code",
   "execution_count": 3,
   "metadata": {},
   "outputs": [],
   "source": [
    "# Trying out this dask thing from Aiko's GitHub repository :p\n",
    "from tempfile import NamedTemporaryFile, TemporaryDirectory # Creating temporary Files/Dirs\n",
    "import dask # Distributed data libary\n",
    "from dask_jobqueue import SLURMCluster # Setting up distributed memories via slurm\n",
    "from distributed import Client, progress, wait # Libaray to orchestrate distributed resources"
   ]
  },
  {
   "cell_type": "code",
   "execution_count": 12,
   "metadata": {},
   "outputs": [],
   "source": [
    "def quadratic_trend(x, y):\n",
    "    pf = np.polyfit(x, y, 2)\n",
    "    return xr.DataArray(pf)"
   ]
  },
  {
   "cell_type": "code",
   "execution_count": 14,
   "metadata": {},
   "outputs": [
    {
     "name": "stdout",
     "output_type": "stream",
     "text": [
      "<xarray.DataArray 'T' (time: 7651, id: 19931)>\n",
      "[152492081 values with dtype=float64]\n",
      "Coordinates:\n",
      "  * time     (time) datetime64[ns] 2017-08-06T09:00:00 ... 2017-08-08T12:00:00\n",
      "Dimensions without coordinates: id\n",
      "Attributes:\n",
      "    long_name:  Temperature with latent heating\n",
      "    units:      K\n",
      "    flag:       NONE\n"
     ]
    }
   ],
   "source": [
    "# curve fit\n",
    "bd = '/xdisk/sylvia/traj_output/'\n",
    "clams = xr.open_dataset( bd + 'CLAMS-Tf_0V1M0A0R_tst00001350_trim_extract_dt_iwc_filter.nc' )\n",
    "T = clams['T']\n",
    "print(T)"
   ]
  },
  {
   "cell_type": "code",
   "execution_count": null,
   "metadata": {},
   "outputs": [],
   "source": [
    "%%time\n",
    "slopes = xr.apply_ufunc(quadratic_trend,\n",
    "                        clams.T, clams.qi,\n",
    "                        vectorize=True,\n",
    "                        input_core_dims=[['time'], ['time']],\n",
    "                        )"
   ]
  },
  {
   "cell_type": "code",
   "execution_count": 13,
   "metadata": {},
   "outputs": [
    {
     "name": "stdout",
     "output_type": "stream",
     "text": [
      "<xarray.DataArray (dim_0: 3)>\n",
      "array([ 1.00000000e+00, -4.44059586e-15,  2.54726955e-15])\n",
      "Dimensions without coordinates: dim_0\n"
     ]
    }
   ],
   "source": [
    "z = quadratic_trend([0,1,2,3,4],[0,1,4,9,16])\n",
    "print(z)"
   ]
  },
  {
   "cell_type": "code",
   "execution_count": null,
   "metadata": {},
   "outputs": [],
   "source": []
  }
 ],
 "metadata": {
  "kernelspec": {
   "display_name": "ncplot",
   "language": "python",
   "name": "ncplot"
  },
  "language_info": {
   "codemirror_mode": {
    "name": "ipython",
    "version": 3
   },
   "file_extension": ".py",
   "mimetype": "text/x-python",
   "name": "python",
   "nbconvert_exporter": "python",
   "pygments_lexer": "ipython3",
   "version": "3.6.10"
  }
 },
 "nbformat": 4,
 "nbformat_minor": 4
}
