{
 "cells": [
  {
   "cell_type": "code",
   "execution_count": 1,
   "metadata": {},
   "outputs": [],
   "source": [
    "import matplotlib.pyplot as plt\n",
    "import numpy as np\n",
    "import xarray as xr\n",
    "import sys, os, warnings\n",
    "\n",
    "sys.path.append(os.path.abspath(\"/work/bb1018/b380873/tropic_vis/utilities/\"))\n",
    "from plotting_utilities import *\n",
    "farbe = sim_colors()"
   ]
  },
  {
   "cell_type": "markdown",
   "metadata": {},
   "source": [
    "# Figure S1: Probability distributions of temperature and RHi along the trajectories"
   ]
  },
  {
   "cell_type": "code",
   "execution_count": null,
   "metadata": {},
   "outputs": [],
   "source": [
    "# Linear T bins in K\n",
    "T_bins = np.linspace( 190, 240, 50 )\n",
    "T_bins_c = ( T_bins[1:] + T_bins[:-1] )/2.\n",
    "\n",
    "# Linear RHi bins in %\n",
    "RHi_bins = np.linspace( 60, 120, 50 )\n",
    "RHi_bins_c = ( RHi_bins[1:] + RHi_bins[:-1] )/2."
   ]
  },
  {
   "cell_type": "code",
   "execution_count": null,
   "metadata": {},
   "outputs": [],
   "source": [
    "basedir = '/work/bb1018/b380873/traj_output/traj_pp/'\n",
    "names = [ 'qih-Nih-CLAMS-Tf_0V1M0A0R.nc', 'qih-Nih-ICON_0V1M0A0R.nc', \n",
    "          'qih-Nih-CLAMS-Tf_0V2M0A0R.nc', 'qih-Nih-ICON_0V2M0A0R.nc',\n",
    "          'qih-Nih-CLAMS_0V2M0A0R.nc', 'qih-Nih-CLAMS-Tf_0V2M0A0R_noSHflux.nc']\n",
    "#names = [ 'qih-Nih-CLAMS-Tf_0V1M0A0R_filter.nc', 'qih-Nih-ICON_0V1M0A0R_filter.nc', \n",
    "#          'qih-Nih-CLAMS-Tf_0V2M0A0R_filter.nc', 'qih-Nih-ICON_0V2M0A0R_filter.nc',\n",
    "#          'qih-Nih-CLAMS_0V2M0A0R.nc', 'qih-Nih-CLAMS-Tf_0V2M0A0R_noSHflux.nc']\n",
    "datasets = []\n",
    "for n in names:\n",
    "    d = xr.open_dataset( basedir + n )\n",
    "    datasets.append( d )"
   ]
  },
  {
   "cell_type": "code",
   "execution_count": null,
   "metadata": {},
   "outputs": [],
   "source": [
    "# Plot the histograms of qi and Ni for extracted trajectories\n",
    "lw = 2\n",
    "fs = 18\n",
    "a = 0.5\n",
    "suffix = '' # '_outflow', '_insitu', '_flight'\n",
    "couleurs = [ 'orange', 'orange', 'blue', 'blue', 'blue', 'k' ]\n",
    "stil = [ '-', '--', '-', '--', ':', '-' ]\n",
    "lbls = [ r'$\\bf{C}$' + '_1M1T1S', r'$\\bf{I}$' + '_1M0T0S', r'$\\bf{C}$' + '_2M1T1S',\n",
    "         r'$\\bf{I}$' + '_2M0T0S', r'$\\bf{C}$' + '_2M0T1S', r'$\\bf{C}$' + '_2M0T0S' ]\n",
    "\n",
    "fig, ax = plt.subplots( nrows=1, ncols=2, figsize=(13.5,6) )\n",
    "for c, s, d, l, j in zip(couleurs, stil, datasets, lbls, np.arange(6)):\n",
    "    ax[0].plot( T_bins_c, d['Th'], color=c, linestyle=s, linewidth=lw, label=l )\n",
    "    #Tm, _ = centroids( 'T' + suffix, j )\n",
    "    #ax[0].plot( [Tm, Tm], [0, 9], color=c, linestyle=s, linewidth=lw, alpha=a )\n",
    "    ax[1].plot( RHi_bins_c, d['RHih'], color=c, linestyle=s, linewidth=lw, label=l )\n",
    "    #RHim, _ = centroids( 'RHi' + suffix, j )\n",
    "    #ax[1].plot( [RHim, RHim], [0, 9], color=c, linestyle=s, linewidth=lw, alpha=a )\n",
    "    \n",
    "ax[0].set_xlim([T_bins[0], T_bins[-1]])\n",
    "ax[0].set_ylim([0,15])\n",
    "ax[0].set_xlabel( 'Temperature [K]', fontsize=fs )\n",
    "ax[0].set_ylabel( 'Probability [%]', fontsize=fs )\n",
    "ax[0].text(0.02, 0.95, r'$\\bf{(a)}$', fontsize=fs+4, transform=ax[0].transAxes)\n",
    "l = ax[0].legend( loc='upper center', fontsize=fs, frameon=False )\n",
    "sexy_axes( ax[0], fs )\n",
    " \n",
    "ax[1].set_ylim([0,15])\n",
    "ax[1].text(0.02, 0.95, r'$\\bf{(b)}$', fontsize=fs+4, transform=ax[1].transAxes)\n",
    "ax[1].set_xlabel( r'RH$_i$ [%]', fontsize=fs )\n",
    "sexy_axes( ax[1], fs )\n",
    "\n",
    "#fig.savefig( 'output/CLaMS-ICON-T-RHi-pdfs' + suffix + '.pdf',bbox_inches='tight' )\n",
    "plt.show()"
   ]
  }
 ],
 "metadata": {
  "kernelspec": {
   "display_name": "ncplot",
   "language": "python",
   "name": "ncplot"
  },
  "language_info": {
   "codemirror_mode": {
    "name": "ipython",
    "version": 3
   },
   "file_extension": ".py",
   "mimetype": "text/x-python",
   "name": "python",
   "nbconvert_exporter": "python",
   "pygments_lexer": "ipython3",
   "version": "3.6.10"
  }
 },
 "nbformat": 4,
 "nbformat_minor": 4
}
