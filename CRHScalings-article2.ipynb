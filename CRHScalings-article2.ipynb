{
 "cells": [
  {
   "cell_type": "code",
   "execution_count": 1,
   "metadata": {},
   "outputs": [],
   "source": [
    "import xarray as xr\n",
    "import numpy as np\n",
    "from matplotlib.patches import Ellipse\n",
    "from scipy.integrate import simps"
   ]
  },
  {
   "cell_type": "code",
   "execution_count": 2,
   "metadata": {},
   "outputs": [],
   "source": [
    "def confidence_ellipse(x, y, n_std=0.1, facecolor='none', **kwargs):\n",
    "    \"\"\"\n",
    "    Create a plot of the covariance confidence ellipse of *x* and *y*.\n",
    "\n",
    "    Parameters\n",
    "    ----------\n",
    "    x, y : array-like, shape (n, )\n",
    "        Input data.\n",
    "\n",
    "    ax : matplotlib.axes.Axes\n",
    "        The axes object to draw the ellipse into.\n",
    "\n",
    "    n_std : float\n",
    "        The number of standard deviations to determine the ellipse's radiuses.\n",
    "\n",
    "    **kwargs\n",
    "        Forwarded to `~matplotlib.patches.Ellipse`\n",
    "\n",
    "    Returns\n",
    "    -------\n",
    "    matplotlib.patches.Ellipse\n",
    "    \"\"\"\n",
    "    if x.size != y.size:\n",
    "        raise ValueError(\"x and y must be the same size\")\n",
    "\n",
    "    cov = np.cov(x, y)\n",
    "    pearson = cov[0, 1]/np.sqrt(cov[0, 0] * cov[1, 1])\n",
    "    # Using a special case to obtain the eigenvalues of this\n",
    "    # two-dimensional dataset.\n",
    "    ell_radius_x = np.sqrt(1 + pearson)\n",
    "    ell_radius_y = np.sqrt(1 - pearson)\n",
    "    ellipse = Ellipse((0, 0), width=ell_radius_x * 2, height=ell_radius_y * 2,\n",
    "                      facecolor=facecolor, **kwargs)\n",
    "\n",
    "    # Calculating the standard deviation of x from\n",
    "    # the square root of the variance and multiplying\n",
    "    # with the given number of standard deviations.\n",
    "    scale_x = np.sqrt(cov[0, 0]) * n_std\n",
    "    mean_x = np.mean(x)\n",
    "    print('Ellipse major axis: ' + str(mean_x+scale_x-mean_x+scale_x) + ' K')\n",
    "    print('Min x value of major axis: ' + str(mean_x-scale_x) + ' K')\n",
    "    print('Max x value of major axis: ' + str(mean_x+scale_x) + ' K')\n",
    "    min_majoraxis = mean_x - scale_x\n",
    "    max_majoraxis = mean_x + scale_x\n",
    "\n",
    "    # calculating the standard deviation of y ...\n",
    "    #scale_y = np.sqrt(cov[1, 1]) * n_std\n",
    "    #mean_y = np.mean(y)\n",
    "\n",
    "    #transf = transforms.Affine2D() \\\n",
    "    #    .rotate_deg(45) \\\n",
    "    #    .scale(scale_x, scale_y) \\\n",
    "    #    .translate(mean_x, mean_y)\n",
    "\n",
    "    #ellipse.set_transform(transf + ax.transData)\n",
    "    return min_majoraxis, max_majoraxis  #ax.add_patch(ellipse), "
   ]
  },
  {
   "cell_type": "code",
   "execution_count": 3,
   "metadata": {},
   "outputs": [],
   "source": [
    "# Perform the quadratic qi(T) fitting for the longwave heating scaling\n",
    "def qiT_fitting( infile, k ):\n",
    "    bd = '/xdisk/sylvia/traj_output/'\n",
    "    file = xr.open_dataset( bd + infile )\n",
    "    T = np.array(file['T'][:k]).ravel()\n",
    "    IWC = np.array(file['qi'][:k]).ravel()\n",
    "    \n",
    "    # Filter these values for non-nan, non-negligible ice water contents\n",
    "    i = np.argwhere( ~np.isnan(IWC) )\n",
    "    T = T[i[:,0]]\n",
    "    IWC = IWC[i[:,0]] * 10**6\n",
    "    j = np.argwhere( (IWC > 10**(-5)) )\n",
    "    T = T[j[:,0]]\n",
    "    IWC = IWC[j[:,0]]\n",
    "    \n",
    "    # Find the minimum and maximum temperature from the 0.5*sigma ellipse\n",
    "    minT, maxT = confidence_ellipse( T, np.log10(IWC) )\n",
    "    \n",
    "    # Then filter values for temperatures in teh 0.5*sigma ellipse\n",
    "    j = np.argwhere( (T > minT) & (T < maxT) )\n",
    "    T = T[j[:,0]]\n",
    "    IWC = IWC[j[:,0]]\n",
    "    print( 'Sample size: ' + str(len(IWC)) )\n",
    "    \n",
    "    # Curve fit\n",
    "    z = np.polyfit( T, IWC, 2 )\n",
    "    return z, minT, maxT"
   ]
  },
  {
   "cell_type": "code",
   "execution_count": 4,
   "metadata": {},
   "outputs": [
    {
     "name": "stdout",
     "output_type": "stream",
     "text": [
      "Ellipse major axis: 1.3930631627542231 K\n",
      "Min x value of major axis: 224.39741027264316 K\n",
      "Max x value of major axis: 225.7904734353974 K\n",
      "Sample size: 1760800\n",
      "[ 5.76101167e-01 -2.60594826e+02  2.95003959e+04]\n",
      "224.39741027264316 225.7904734353974\n",
      "IWP [g m-2] - lifecycle 3: 8.01719725488859\n"
     ]
    }
   ],
   "source": [
    "# Lifecycle 3 fitting\n",
    "z3, minT3, maxT3 = qiT_fitting( 'CLAMS-Tf_0V2M0A0R_tst00000450_trim_extract_dt_iwc_filter.nc', 12000 )\n",
    "print(z3)\n",
    "print(minT3,maxT3)\n",
    "\n",
    "# Lifecycle 3 IWP calculation\n",
    "T_arr = np.linspace( minT3, maxT3, 100 )\n",
    "qi_arr = z3[0]*T_arr**2 + z3[1]*T_arr + z3[2]\n",
    "iwp3 = simps(qi_arr*10**(-6)/0.0055, T_arr ) # here in kg m-2\n",
    "\n",
    "print('IWP [g m-2] - lifecycle 3: ' + str(iwp3*10**3) )"
   ]
  },
  {
   "cell_type": "code",
   "execution_count": 5,
   "metadata": {},
   "outputs": [
    {
     "name": "stdout",
     "output_type": "stream",
     "text": [
      "Ellipse major axis: 2.9065018906637063 K\n",
      "Min x value of major axis: 226.9188346259572 K\n",
      "Max x value of major axis: 229.82533651662092 K\n",
      "Sample size: 2754767\n",
      "[5.55206397e-04 1.26835938e-01 2.89742905e+01]\n",
      "226.9188346259572 229.82533651662092\n",
      "IWP [kg m-2] - lifecycle 2: 45.92093197765202\n"
     ]
    },
    {
     "name": "stderr",
     "output_type": "stream",
     "text": [
      "/home/u18/sylvia/.conda/envs/ncplot/lib/python3.6/site-packages/ipykernel_launcher.py:2: RankWarning: Polyfit may be poorly conditioned\n",
      "  \n"
     ]
    }
   ],
   "source": [
    "# Lifecycle 2 fitting\n",
    "z2, minT2, maxT2 = qiT_fitting( 'ICON_0V2M0A0R_tst00000450_trim_extract_dt_filter.nc', 2000 )\n",
    "print(z2)\n",
    "print(minT2,maxT2)\n",
    "\n",
    "# Lifecycle 2 IWP calculation\n",
    "T_arr = np.linspace( minT2, maxT2, 100 )\n",
    "qi_arr = z2[0]*T_arr**2 + z2[1]*T_arr + z2[2]\n",
    "iwp2 = simps(qi_arr*10**(-6)/0.0055, T_arr ) # here in kg m-2\n",
    "\n",
    "print('IWP [kg m-2] - lifecycle 2: ' + str(iwp2*10**3) )"
   ]
  },
  {
   "cell_type": "code",
   "execution_count": 6,
   "metadata": {},
   "outputs": [
    {
     "name": "stdout",
     "output_type": "stream",
     "text": [
      "Ellipse major axis: 2.295664827225788 K\n",
      "Min x value of major axis: 226.49073264986367 K\n",
      "Max x value of major axis: 228.78639747708945 K\n",
      "Sample size: 6998897\n",
      "[7.47207891e-05 1.70151167e-02 3.87451660e+00]\n",
      "226.49073264986367 228.78639747708945\n",
      "IWP [kg m-2] - lifecycle 1: 0.004850041214811204\n"
     ]
    },
    {
     "name": "stderr",
     "output_type": "stream",
     "text": [
      "/home/u18/sylvia/.conda/envs/ncplot/lib/python3.6/site-packages/ipykernel_launcher.py:2: RankWarning: Polyfit may be poorly conditioned\n",
      "  \n"
     ]
    }
   ],
   "source": [
    "# Lifecycle 1 fitting\n",
    "z1, minT1, maxT1 = qiT_fitting( 'ICON_0V1M0A0R_tst00001350_trim_extract_dt_filter.nc', 8000 )\n",
    "print(z1)\n",
    "print(minT1,maxT1)\n",
    "\n",
    "# Lifecycle 1 IWP calculation\n",
    "T_arr = np.linspace( minT1, maxT1, 100 )\n",
    "qi_arr = z1[0]*T_arr**2 + z1[1]*T_arr + z1[2]\n",
    "iwp1 = simps(qi_arr*10**(-6)/0.0055, T_arr ) # here in kg m-2\n",
    "\n",
    "print('IWP [kg m-2] - lifecycle 1: ' + str(iwp1) )"
   ]
  },
  {
   "cell_type": "raw",
   "metadata": {},
   "source": [
    "ax = plt.gcf().axes\n",
    "_, minT, maxT = confidence_ellipse( T, np.log10(IWC), ax[1], edgecolor='red' )\n",
    "T_arr = np.linspace( minT, maxT, 100 )\n",
    "qi_arr = z[0]*T_arr**2 + z[1]*T_arr + z[2]\n",
    "ax[1].plot( T_arr, np.log10(qi_arr), 'red' )\n",
    "print(minT,maxT)"
   ]
  },
  {
   "cell_type": "code",
   "execution_count": 7,
   "metadata": {},
   "outputs": [],
   "source": [
    "# Trajectory duration for both longwave and shortwave heating scalings\n",
    "bd = '/xdisk/sylvia/traj_output/'\n",
    "file = xr.open_dataset( bd + 'ICON_0V1M0A0R_tst00001350_trim_extract_dt_filter.nc' ) #'_iwc'\n",
    "T = file['T']\n",
    "IWC = file['qi']\n",
    "\n",
    "# Replace all your nan values with 10^(-8)\n",
    "IWC = IWC.fillna( 10**(-8) )\n",
    "\n",
    "# Find the arguments where qi > 10^(-8) and T < 237 K, i.e. non-negligible cirrus formation\n",
    "IWC_masked = IWC.where( (IWC > 10**(-8)) & (T < 237), np.nan, 0 )"
   ]
  },
  {
   "cell_type": "code",
   "execution_count": 8,
   "metadata": {},
   "outputs": [
    {
     "name": "stdout",
     "output_type": "stream",
     "text": [
      "(19931,)\n",
      "0\n"
     ]
    },
    {
     "ename": "NameError",
     "evalue": "name 'stop' is not defined",
     "output_type": "error",
     "traceback": [
      "\u001b[0;31m---------------------------------------------------------------------------\u001b[0m",
      "\u001b[0;31mNameError\u001b[0m                                 Traceback (most recent call last)",
      "\u001b[0;32m<ipython-input-8-feae3826315e>\u001b[0m in \u001b[0;36m<module>\u001b[0;34m\u001b[0m\n\u001b[1;32m      4\u001b[0m     \u001b[0;32mif\u001b[0m \u001b[0mi\u001b[0m\u001b[0;34m%\u001b[0m\u001b[0;36m100\u001b[0m \u001b[0;34m==\u001b[0m \u001b[0;36m0\u001b[0m\u001b[0;34m:\u001b[0m\u001b[0;34m\u001b[0m\u001b[0;34m\u001b[0m\u001b[0m\n\u001b[1;32m      5\u001b[0m         \u001b[0mprint\u001b[0m\u001b[0;34m(\u001b[0m\u001b[0mi\u001b[0m\u001b[0;34m)\u001b[0m\u001b[0;34m\u001b[0m\u001b[0;34m\u001b[0m\u001b[0m\n\u001b[0;32m----> 6\u001b[0;31m         \u001b[0mprint\u001b[0m\u001b[0;34m(\u001b[0m\u001b[0;34m'Longest trajectory duration: '\u001b[0m \u001b[0;34m+\u001b[0m \u001b[0mstr\u001b[0m\u001b[0;34m(\u001b[0m\u001b[0;34m(\u001b[0m\u001b[0mstop\u001b[0m\u001b[0;34m-\u001b[0m\u001b[0mstart\u001b[0m\u001b[0;34m)\u001b[0m\u001b[0;34m*\u001b[0m\u001b[0;36m24\u001b[0m\u001b[0;34m/\u001b[0m\u001b[0;36m3600.\u001b[0m\u001b[0;34m)\u001b[0m \u001b[0;34m+\u001b[0m \u001b[0;34m' hours'\u001b[0m\u001b[0;34m)\u001b[0m\u001b[0;34m\u001b[0m\u001b[0;34m\u001b[0m\u001b[0m\n\u001b[0m\u001b[1;32m      7\u001b[0m     \u001b[0mtr\u001b[0m \u001b[0;34m=\u001b[0m \u001b[0mIWC_masked\u001b[0m\u001b[0;34m[\u001b[0m\u001b[0;34m:\u001b[0m\u001b[0;34m,\u001b[0m\u001b[0mi\u001b[0m\u001b[0;34m]\u001b[0m \u001b[0;31m# Extract the trajectory of interest\u001b[0m\u001b[0;34m\u001b[0m\u001b[0;34m\u001b[0m\u001b[0m\n\u001b[1;32m      8\u001b[0m     \u001b[0mm\u001b[0m \u001b[0;34m=\u001b[0m \u001b[0mnp\u001b[0m\u001b[0;34m.\u001b[0m\u001b[0mconcatenate\u001b[0m\u001b[0;34m(\u001b[0m\u001b[0;34m(\u001b[0m \u001b[0;34m[\u001b[0m\u001b[0;32mTrue\u001b[0m\u001b[0;34m]\u001b[0m\u001b[0;34m,\u001b[0m \u001b[0mnp\u001b[0m\u001b[0;34m.\u001b[0m\u001b[0misnan\u001b[0m\u001b[0;34m(\u001b[0m\u001b[0mtr\u001b[0m\u001b[0;34m)\u001b[0m\u001b[0;34m,\u001b[0m \u001b[0;34m[\u001b[0m\u001b[0;32mTrue\u001b[0m\u001b[0;34m]\u001b[0m \u001b[0;34m)\u001b[0m\u001b[0;34m)\u001b[0m  \u001b[0;31m# Mask\u001b[0m\u001b[0;34m\u001b[0m\u001b[0;34m\u001b[0m\u001b[0m\n",
      "\u001b[0;31mNameError\u001b[0m: name 'stop' is not defined"
     ]
    }
   ],
   "source": [
    "lifetimes = np.ndarray( (IWC.shape[1],) )\n",
    "print(lifetimes.shape)\n",
    "for i in np.arange(IWC.shape[1]):\n",
    "    if i%100 == 0:\n",
    "        print(i)\n",
    "        print('Longest trajectory duration: ' + str((stop-start)*24/3600.) + ' hours')\n",
    "    tr = IWC_masked[:,i] # Extract the trajectory of interest\n",
    "    m = np.concatenate(( [True], np.isnan(tr), [True] ))  # Mask\n",
    "    ss = np.flatnonzero(m[1:] != m[:-1]).reshape(-1,2)   # Start-stop limits\n",
    "    if ss.size == 0:\n",
    "        continue\n",
    "    else:\n",
    "        start, stop = ss[(ss[:,1] - ss[:,0]).argmax()]  # Get max interval, interval limits\n",
    "        lifetimes[i] = stop-start"
   ]
  },
  {
   "cell_type": "raw",
   "metadata": {},
   "source": [
    "np.save( '/xdisk/sylvia/tropic_vis/output/ICON_0V1M0A0R_tst00001350_trim_extract_dt_filter_lifetimes.npy', lifetimes )\n",
    "print( np.nanmedian(lifetimes)*24/3600 )"
   ]
  },
  {
   "cell_type": "code",
   "execution_count": 10,
   "metadata": {},
   "outputs": [
    {
     "name": "stdout",
     "output_type": "stream",
     "text": [
      "3.0088943521816933\n",
      "8.287202904494979\n",
      "3.648867520393747\n"
     ]
    }
   ],
   "source": [
    "lifetime1 = np.load( '/xdisk/sylvia/tropic_vis/output/ICON_0V1M0A0R_tst00001350_trim_extract_dt_filter_lifetimes.npy' )\n",
    "lifetime2 = np.load( '/xdisk/sylvia/tropic_vis/output/ICON_0V2M0A0R_tst00000450_trim_extract_dt_filter_lifetimes.npy' )\n",
    "lifetime3 = np.load( '/xdisk/sylvia/tropic_vis/output/CLAMS-Tf_0V2M0A0R_tst00000450_trim_extract_dt_iwc_filter_lifetimes.npy' )\n",
    "\n",
    "# Converting here from timesteps to hours\n",
    "print( np.nanmean(lifetime1)*24/3600 )\n",
    "print( np.nanmean(lifetime2)*24/3600 )\n",
    "print( np.nanmean(lifetime3)*24/3600 )"
   ]
  },
  {
   "cell_type": "code",
   "execution_count": 17,
   "metadata": {},
   "outputs": [
    {
     "name": "stdout",
     "output_type": "stream",
     "text": [
      "LW heating scaling 1 - 173.450125423663\n",
      "LW heating scaling 2 - 1230.486006305909\n",
      "LW heating scaling 3 - 301.82141942089083\n",
      "LW heating ratio 1:2 - 0.1409606647574843\n",
      "LW heating ratio 1:3 - 0.5746779859310989\n",
      "LW heating ratio 2:3 - 4.076867734128547\n",
      "~~~~~~~~~~~~~~~~~~~~~~~~~~~~~~~~~~~~~~~~~~~~\n",
      "Not accumulated (no cloud lifetime included)\n",
      "LW heating ratio 1:2 - 0.38823883249697655\n",
      "LW heating ratio 1:3 - 0.6969084295129343\n",
      "LW heating ratio 2:3 - 1.7950508068209832\n"
     ]
    }
   ],
   "source": [
    "# Longwave heating scalings\n",
    "kappai = 100\n",
    "HLW1 = (1-np.exp(-kappai*iwp1))*np.nanmean(lifetime1)\n",
    "HLW2 = (1-np.exp(-kappai*iwp2))*np.nanmean(lifetime2)\n",
    "HLW3 = (1-np.exp(-kappai*iwp3))*np.nanmean(lifetime3)\n",
    "print( 'LW heating scaling 1 - ' + str(HLW1) )\n",
    "print( 'LW heating scaling 2 - ' + str(HLW2) )\n",
    "print( 'LW heating scaling 3 - ' + str(HLW3) )\n",
    "\n",
    "HLW12 = (1-np.exp(-kappai*iwp1))*np.nanmean(lifetime1)/(1-np.exp(-kappai*iwp2))/np.nanmean(lifetime2)\n",
    "print( 'LW heating ratio 1:2 - ' + str(HLW12) )\n",
    "\n",
    "HLW13 = (1-np.exp(-kappai*iwp1))*np.nanmean(lifetime1)/(1-np.exp(-kappai*iwp3))/np.nanmean(lifetime3)\n",
    "print('LW heating ratio 1:3 - ' + str(HLW13) )\n",
    "\n",
    "HLW23 = (1-np.exp(-kappai*iwp2))*np.nanmean(lifetime2)/(1-np.exp(-kappai*iwp3))/np.nanmean(lifetime3)\n",
    "print('LW heating ratio 2:3 - ' + str(HLW23) )\n",
    "\n",
    "print('~~~~~~~~~~~~~~~~~~~~~~~~~~~~~~~~~~~~~~~~~~~~')\n",
    "print('Not accumulated (no cloud lifetime included)')\n",
    "HLW12 = (1-np.exp(-kappai*iwp1))/(1-np.exp(-kappai*iwp2))\n",
    "print( 'LW heating ratio 1:2 - ' + str(HLW12) )\n",
    "\n",
    "HLW13 = (1-np.exp(-kappai*iwp1))/(1-np.exp(-kappai*iwp3))\n",
    "print('LW heating ratio 1:3 - ' + str(HLW13) )\n",
    "\n",
    "HLW23 = (1-np.exp(-kappai*iwp2))/(1-np.exp(-kappai*iwp3))\n",
    "print('LW heating ratio 2:3 - ' + str(HLW23) )"
   ]
  },
  {
   "cell_type": "code",
   "execution_count": 14,
   "metadata": {},
   "outputs": [
    {
     "name": "stdout",
     "output_type": "stream",
     "text": [
      "0.677960321211819 0.7108409719391791 0.695843862170264\n",
      "0.8536823625222434 0.8210677931455393 0.8360221698458704\n",
      "0.4850041214811204 4.592093197765202 0.801719725488859\n"
     ]
    }
   ],
   "source": [
    "b = [ 0.3159*10**(-4), 0.6289*10**(-4), 0.1237*10**(-6), -0.738*10**(-9) ]  # 1.242-1.299 [um]\n",
    "b = [ 0.2693, 0.4137*10**(-2), -0.3817*10**(-4), 0.123*10**(-6) ]  # 3.077-3.846 [um]\n",
    "#b = [ 0.2075, 0.8103*10**(-3), 0.5698*10**(-5), -0.4896*10**(-7) ] # 2.5-3.077 [um]\n",
    "#b = [ -0.2841*10**(-3), 0.9704*10**(-3), -0.8236*10**(-7), -0.1237*10**(-7) ] # 2.15-2.5 [um]\n",
    "\n",
    "c = [ 0.7717, 0.6579*10**(-3), -0.6515*10**(-6), -0.1075*10**(-7) ] # 1.242-1.299 [um]\n",
    "c = [ 0.8011, 0.4177*10**(-2), -0.4192*10**(-4), 0.1422*10**(-6) ] # 3.077-3.846 [um]\n",
    "#c = [ 0.8837, 0.1185*10**(-2), -0.585*10**(-5), 0.3932*10**(-8) ] # 2.5-3.077 [um]\n",
    "#c = [ 0.8172, 0.1637*10**(-3), 0.1079*10**(-4), -0.6696*10**(-7) ] # 2.15-2.5 [um]\n",
    "\n",
    "De = 14.63\n",
    "omega1 = 1 - (b[0] + b[1]*De + b[2]*De**2 + b[3]*De**3)\n",
    "g1 = c[0] + c[1]*De + c[2]*De**2 + c[3]*De**3\n",
    "\n",
    "De = 5.03\n",
    "omega2 = 1 - (b[0] + b[1]*De + b[2]*De**2 + b[3]*De**3)\n",
    "g2 = c[0] + c[1]*De + c[2]*De**2 + c[3]*De**3\n",
    "\n",
    "De = 9.18\n",
    "omega3 = 1 - (b[0] + b[1]*De + b[2]*De**2 + b[3]*De**3)\n",
    "g3 = c[0] + c[1]*De + c[2]*De**2 + c[3]*De**3\n",
    "\n",
    "print(omega1,omega2,omega3)\n",
    "print(g1,g2,g3)\n",
    "print(kappai*iwp1,kappai*iwp2,kappai*iwp3)"
   ]
  },
  {
   "cell_type": "code",
   "execution_count": 15,
   "metadata": {},
   "outputs": [
    {
     "name": "stdout",
     "output_type": "stream",
     "text": [
      "SW heating scaling 1 - 21.714237534833135\n",
      "SW heating scaling 2 - 726.0572982639532\n",
      "SW heating scaling 3 - 50.06899335781854\n",
      "SW heating ratio 1:2 - 0.029907057730503072\n",
      "SW heating ratio 1:3 - 0.433686321185891\n",
      "SW heating ratio 2:3 - 14.50113632353616\n"
     ]
    }
   ],
   "source": [
    "# Shortwave cooling scalings\n",
    "# Optical depth = kappai*iwp\n",
    "\n",
    "HSW1 = (omega1*(1-g1)*kappai*iwp1*np.nanmean(lifetime1))\n",
    "HSW2 = (omega2*(1-g2)*kappai*iwp2*np.nanmean(lifetime2))\n",
    "HSW3 = (omega3*(1-g3)*kappai*iwp3*np.nanmean(lifetime3))\n",
    "print( 'SW heating scaling 1 - ' + str(HSW1) )\n",
    "print( 'SW heating scaling 2 - ' + str(HSW2) )\n",
    "print( 'SW heating scaling 3 - ' + str(HSW3) )\n",
    "\n",
    "HSW12 = (omega1*(1-g1)*kappai*iwp1*np.nanmean(lifetime1))/(omega2*(1-g2)*kappai*iwp2*np.nanmean(lifetime2))\n",
    "print('SW heating ratio 1:2 - ' + str(HSW12) )\n",
    "\n",
    "HSW13 = (omega1*(1-g1)*kappai*iwp1*np.nanmean(lifetime1))/(omega3*(1-g3)*kappai*iwp3*np.nanmean(lifetime3))\n",
    "print('SW heating ratio 1:3 - ' + str(HSW13) )\n",
    "\n",
    "HSW23 = (omega2*(1-g2)*kappai*iwp2*np.nanmean(lifetime2))/(omega3*(1-g3)*kappai*iwp3*np.nanmean(lifetime3))\n",
    "print('SW heating ratio 2:3 - ' + str(HSW23) )"
   ]
  },
  {
   "cell_type": "code",
   "execution_count": null,
   "metadata": {},
   "outputs": [],
   "source": []
  }
 ],
 "metadata": {
  "kernelspec": {
   "display_name": "ncplot",
   "language": "python",
   "name": "ncplot"
  },
  "language_info": {
   "codemirror_mode": {
    "name": "ipython",
    "version": 3
   },
   "file_extension": ".py",
   "mimetype": "text/x-python",
   "name": "python",
   "nbconvert_exporter": "python",
   "pygments_lexer": "ipython3",
   "version": "3.6.10"
  }
 },
 "nbformat": 4,
 "nbformat_minor": 4
}
