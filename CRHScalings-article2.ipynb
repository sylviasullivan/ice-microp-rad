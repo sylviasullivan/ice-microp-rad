{
 "cells": [
  {
   "cell_type": "code",
   "execution_count": 1,
   "metadata": {},
   "outputs": [],
   "source": [
    "import xarray as xr\n",
    "import numpy as np\n",
    "import matplotlib.pyplot as plt\n",
    "from scipy.integrate import simps\n",
    "import sys, os\n",
    "sys.path.append(os.path.abspath(\"/xdisk/sylvia/tropic_vis/utilities/\"))\n",
    "from plotting_utilities import stdev_bubble\n",
    "from densityPlot import centroids\n",
    "from calc_water import calc_water\n",
    "import matplotlib.pyplot as plt"
   ]
  },
  {
   "cell_type": "markdown",
   "metadata": {},
   "source": [
    "# Calculate trajectory lifetimes"
   ]
  },
  {
   "cell_type": "code",
   "execution_count": 77,
   "metadata": {},
   "outputs": [],
   "source": [
    "# Trajectory duration for both longwave and shortwave heating scalings\n",
    "bd = '/xdisk/sylvia/traj_output/'\n",
    "file0 = xr.open_dataset( bd + 'ICON_0V1M0A0R_tst00001350_trim_extract_dt_filter.nc' ) #'_iwc'\n",
    "file1 = xr.open_dataset( bd + 'CLAMS-Tf_0V1M0A0R_tst00001350_trim_extract_dt_iwc.nc' )\n",
    "file2 = xr.open_dataset( bd + 'ICON_0V2M0A0R_tst00000450_trim_extract_dt_filter.nc' )\n",
    "file3 = xr.open_dataset( bd + 'CLAMS-Tf_0V2M0A0R_tst00000450_trim_extract_dt_iwc.nc' )\n",
    "\n",
    "fichiers = [ file0, file1, file2, file3 ]\n",
    "\n",
    "bd2 = '/xdisk/sylvia/tropic_vis/output/'\n",
    "ofichiers = [ bd2 + 'ICON_0V1M0A0R_tst00001350_trim_extract_dt_filter_lifetimes_all2.npy',\n",
    "              bd2 + 'CLAMS-Tf_0V1M0A0R_tst00001350_trim_extract_dt_iwc_filter_lifetimes_all2.npy',\n",
    "              bd2 + 'ICON_0V2M0A0R_tst00000450_trim_extract_dt_iwc_filter_lifetimes_all2.npy',\n",
    "              bd2 + 'CLAMS-Tf_0V2M0A0R_tst00000450_trim_extract_dt_iwc_filter_lifetimes_all2.npy' ]"
   ]
  },
  {
   "cell_type": "code",
   "execution_count": 97,
   "metadata": {},
   "outputs": [],
   "source": [
    "T = file0['T']\n",
    "IWC = file0['qi']\n",
    "\n",
    "# Replace all your nan values with 10^(-8)\n",
    "IWC = IWC.fillna( 10**(-8) )\n",
    "\n",
    "# Find the arguments where qi > 10^(-8) and T < 237 K, i.e. non-negligible cirrus formation\n",
    "IWC_masked = IWC.where( (IWC > 10**(-5)) & (T < 237), np.nan, 0 )"
   ]
  },
  {
   "cell_type": "code",
   "execution_count": null,
   "metadata": {},
   "outputs": [],
   "source": [
    "# Calculate lifetime only from the longest sequence at cirrus temperatures\n",
    "lifetimes = np.ndarray( (IWC.shape[1],) )\n",
    "for i in np.arange(IWC.shape[1]):\n",
    "    if i!=0 & i%100 == 0:\n",
    "        print(i)\n",
    "        print('Longest trajectory duration: ' + str((stop-start)*24/3600.) + ' hours')\n",
    "    tr = IWC_masked[:,i] # Extract the trajectory of interest\n",
    "    m = np.concatenate(( [True], np.isnan(tr), [True] ))  # Mask\n",
    "    ss = np.flatnonzero(m[1:] != m[:-1]).reshape(-1,2)   # Start-stop limits\n",
    "    if ss.size == 0:\n",
    "        continue\n",
    "    else:\n",
    "        start, stop = ss[(ss[:,1] - ss[:,0]).argmax()]  # Get max interval, interval limits\n",
    "        lifetimes[i] = stop-start"
   ]
  },
  {
   "cell_type": "code",
   "execution_count": 98,
   "metadata": {},
   "outputs": [
    {
     "name": "stdout",
     "output_type": "stream",
     "text": [
      "42.45647483819176\n",
      "0.11038081380763634\n",
      "0.12543274296322313\n",
      "0.336159751141438\n",
      "0.5117655912899503\n",
      "0.797752245246099\n",
      "1.1690331644172394\n",
      "1.7259545431739503\n",
      "2.7043299382870907\n",
      "3.4167879183181973\n"
     ]
    }
   ],
   "source": [
    "# How many sequences (at all) per trajectory at cirrus temperatures?\n",
    "nseq = np.ndarray( (IWC.shape[1],) )\n",
    "for i in np.arange( IWC.shape[1] ):\n",
    "    tr = IWC_masked[:,i] # Extract the trajectory of interest\n",
    "    m = np.concatenate(( [True], np.isnan(tr), [True] ))  # Trues if tr is a NaN\n",
    "    # In Python a nonzero integer value is True\n",
    "    ss = np.flatnonzero(m[1:] != m[:-1])\n",
    "    nseq[i] = len(ss)\n",
    "    \n",
    "for i in np.arange(0, 20, 2):\n",
    "    j = np.argwhere(nseq == i)\n",
    "    print(len(j)/len(nseq)*100.)"
   ]
  },
  {
   "cell_type": "code",
   "execution_count": 106,
   "metadata": {},
   "outputs": [],
   "source": [
    "# How many sequences (that qualify as clouds) per trajectory at cirrus temperatures?\n",
    "nseq = np.ndarray( (IWC.shape[1],) )\n",
    "for i in np.arange( IWC.shape[1] ):\n",
    "    tr = IWC_masked[:,i] # Extract the trajectory of interest\n",
    "    m = np.concatenate(( [True], np.isnan(tr), [True] ))  # Trues if tr is a NaN\n",
    "    # In Python a nonzero integer value is True\n",
    "    ss = np.flatnonzero(m[1:] != m[:-1]).reshape(-1,2) \n",
    "    \n",
    "    ss2 = []\n",
    "    for k, s in enumerate(ss[:-1]):\n",
    "        if (ss[k,1]-ss[k,0] >= 150) & (ss[k+1,0]-ss[k,1] >= 75):\n",
    "            ss2.append( list(ss[k]) )\n",
    "    ss2 = np.array( ss2 ) \n",
    "    nseq[i] = len(ss2)"
   ]
  },
  {
   "cell_type": "code",
   "execution_count": 107,
   "metadata": {},
   "outputs": [
    {
     "data": {
      "image/png": "[encoded data removed]",
      "text/plain": [
       "<Figure size 396x396 with 1 Axes>"
      ]
     },
     "metadata": {
      "needs_background": "light"
     },
     "output_type": "display_data"
    }
   ],
   "source": [
    "fig = plt.figure( figsize=(5.5, 5.5) )\n",
    "ax = plt.gca()\n",
    "ax.hist( x=nseq/2.0, bins=np.linspace(0, 6, 7), weights=np.ones_like(nseq)/len(nseq)*100., edgecolor='k' )\n",
    "ax.spines['right'].set_color('none')\n",
    "ax.spines['top'].set_color('none')\n",
    "ax.set_xlim( [0, 6] )\n",
    "ax.set_xticks( [0.5, 1.5, 2.5, 3.5, 4.5, 5.5] )\n",
    "ax.set_xticklabels( [1, 2, 3, 4, 5, 6] )\n",
    "ax.tick_params( axis='both', labelsize=16, rotation=45 )\n",
    "ax.set_ylabel( 'Percentage of trajectories [%]', fontsize=16 )\n",
    "ax.set_xlabel( 'Number of qualifying sequences', fontsize=16 )\n",
    "plt.savefig( '/xdisk/sylvia/tropic_vis/output/qualifying-sequence-distribution2.pdf', bbox_inches='tight' )"
   ]
  },
  {
   "cell_type": "code",
   "execution_count": 32,
   "metadata": {},
   "outputs": [
    {
     "name": "stdout",
     "output_type": "stream",
     "text": [
      "/xdisk/sylvia/traj_output/ICON_0V1M0A0R_tst00001350_trim_extract_dt_filter_lifetimes_all2.npy\n",
      "2.4550227568645075\n",
      "/xdisk/sylvia/traj_output/CLAMS-Tf_0V1M0A0R_tst00001350_trim_extract_dt_iwc_filter_lifetimes_all2.npy\n",
      "2.4413099494542663\n",
      "/xdisk/sylvia/traj_output/ICON_0V2M0A0R_tst00000450_trim_extract_dt_iwc_filter_lifetimes_all2.npy\n",
      "2.920632133398435\n",
      "/xdisk/sylvia/traj_output/CLAMS-Tf_0V2M0A0R_tst00000450_trim_extract_dt_iwc_filter_lifetimes_all2.npy\n",
      "3.118380543343336\n"
     ]
    }
   ],
   "source": [
    "# What are ALL sequence lengths not just the longest?\n",
    "lifetimes_all = []\n",
    "for f, of in zip(fichiers, ofichiers):\n",
    "    print(of)\n",
    "    T = f['T']\n",
    "    IWC = f['qi']\n",
    "\n",
    "    # Replace all your nan values with 10^(-8)\n",
    "    IWC = IWC.fillna( 10**(-8) )\n",
    "\n",
    "    # Find the arguments where qi > 10^(-8) and T < 237 K, i.e. non-negligible cirrus formation\n",
    "    IWC_masked = IWC.where( (IWC > 10**(-8)) & (T < 237), np.nan, 0 )\n",
    "    lifetimes = np.ndarray( (IWC.shape[1],) )\n",
    "    \n",
    "    for i in np.arange(IWC.shape[1]):\n",
    "        #if (i > 99) & (i % 100 == 0):\n",
    "        #    print( i )\n",
    "        tr = IWC_masked[:,i]  # Extract the trajectory of interest\n",
    "        m = np.concatenate(( [True], np.isnan(tr), [True] ))  # Mask\n",
    "        ss = np.flatnonzero(m[1:] != m[:-1]).reshape(-1,2)   # Start-stop limits\n",
    "        \n",
    "        # Take only the maximum sequence as the lifetime\n",
    "        #if ss.size == 0:\n",
    "        #    continue\n",
    "        #else:\n",
    "        #    start, stop = ss[(ss[:,1] - ss[:,0]).argmax()]  # Get max interval, interval limits\n",
    "        #lifetimes[i] = stop-start\n",
    "        \n",
    "        # Take all sequences of greater than a certain length and with more than a certain\n",
    "        # separation from preceding sequences as the lifetime\n",
    "        ss2 = []\n",
    "        for k, s in enumerate(ss[:-1]):\n",
    "            if (ss[k,1]-ss[k,0] >= 150) & (ss[k+1,0]-ss[k,1] >= 150):\n",
    "                ss2.append( list(ss[k]) )\n",
    "        ss2 = np.array( ss2 ) \n",
    "        if len(ss2) != 0:\n",
    "            j = ss2[:,1] - ss2[:,0]\n",
    "        lifetimes_all.extend( j )\n",
    "        \n",
    "    #print( np.nanmean(lifetimes_all)*24/3600 )\n",
    "    print( np.nanmean(lifetimes_all)*24/3600 )\n",
    "    #np.save( of, np.array(lifetimes_all) )"
   ]
  },
  {
   "cell_type": "code",
   "execution_count": 4,
   "metadata": {
    "scrolled": true
   },
   "outputs": [],
   "source": [
    "bd = '/xdisk/sylvia/tropic_vis/output/'\n",
    "np.save( bd + 'CLAMS-Tf_0V2M0A0R_tst00000450_trim_extract_dt_iwc_filter_lifetimes_all.npy', np.array(lifetimes_all) )"
   ]
  },
  {
   "cell_type": "code",
   "execution_count": 13,
   "metadata": {},
   "outputs": [
    {
     "name": "stdout",
     "output_type": "stream",
     "text": [
      "3.0088943521816933\n",
      "8.287202904494979\n",
      "3.648867520393747\n"
     ]
    }
   ],
   "source": [
    "lifetime1 = np.load( '/xdisk/sylvia/tropic_vis/output/ICON_0V1M0A0R_tst00001350_trim_extract_dt_filter_lifetimes.npy' )\n",
    "lifetime2 = np.load( '/xdisk/sylvia/tropic_vis/output/ICON_0V2M0A0R_tst00000450_trim_extract_dt_filter_lifetimes.npy' )\n",
    "lifetime3 = np.load( '/xdisk/sylvia/tropic_vis/output/CLAMS-Tf_0V2M0A0R_tst00000450_trim_extract_dt_iwc_filter_lifetimes.npy' )\n",
    "\n",
    "#lifetime1 = np.load( '/xdisk/sylvia/tropic_vis/output/ICON_0V1M0A0R_tst00001350_trim_extract_dt_filter_lifetimes_all.npy' )\n",
    "#lifetime2 = np.load( '/xdisk/sylvia/tropic_vis/output/ICON_0V2M0A0R_tst00000450_trim_extract_dt_filter_lifetimes_all.npy' )\n",
    "#lifetime3 = np.load( '/xdisk/sylvia/tropic_vis/output/CLAMS-Tf_0V2M0A0R_tst00000450_trim_extract_dt_iwc_filter_lifetimes_all.npy' )\n",
    "\n",
    "# Converting here from timesteps to hours\n",
    "print( np.nanmean(lifetime1)*24/3600 )\n",
    "print( np.nanmean(lifetime2)*24/3600 )\n",
    "print( np.nanmean(lifetime3)*24/3600 )\n",
    "#print( np.nanmean(np.array(lifetimes_all))*24/3600 )"
   ]
  },
  {
   "cell_type": "markdown",
   "metadata": {},
   "source": [
    "# Calculate temperature depth of trajectories and perform qi-T fitting within"
   ]
  },
  {
   "cell_type": "code",
   "execution_count": 4,
   "metadata": {},
   "outputs": [],
   "source": [
    "# These thresholds are used throughout. Values below are considered negligible.\n",
    "qi_threshold = 10**(-8)\n",
    "Ni_threshold = 10**(-8)\n",
    "RHi_threshold = 0\n",
    "\n",
    "basedir = '/xdisk/sylvia/traj_output/'\n",
    "fichiers = [ 'CLAMS-Tf_0V1M0A0R_tst00001350_trim_extract_dt_iwc_filter.nc', 'ICON_0V1M0A0R_tst00001350_trim_extract_dt_filter.nc',\n",
    "             'CLAMS-Tf_0V2M0A0R_tst00000450_trim_extract_dt_iwc_filter.nc', 'ICON_0V2M0A0R_tst00000450_trim_extract_dt_filter.nc' ]\n",
    "RHi_1M0T1S = xr.open_dataset( basedir + fichiers[0] )['RHI']\n",
    "RHi_2M1T1S = xr.open_dataset( basedir + fichiers[2] )['RHI']\n",
    "RHi_fi = [ RHi_1M0T1S, RHi_1M0T1S, RHi_2M1T1S, RHi_2M1T1S ]"
   ]
  },
  {
   "cell_type": "code",
   "execution_count": 5,
   "metadata": {},
   "outputs": [],
   "source": [
    "def quadratic_trend(x, y):\n",
    "    z = np.polyfit(x, y, 2)\n",
    "    # we need to return a dataarray or else xarray's groupby won't be happy\n",
    "    return xr.DataArray(z[0])"
   ]
  },
  {
   "cell_type": "code",
   "execution_count": 23,
   "metadata": {},
   "outputs": [
    {
     "name": "stdout",
     "output_type": "stream",
     "text": [
      "Tmin and Tmax: 227.2412029785002 229.6187970214998\n",
      "~~~~~~~~~~~~~~~~~~~~~~~~~~~~~~~~~~~~~~~~\n",
      "IWP from CLAMS-Tf_0V1M0A0R_tst00001350_trim_extract_dt_iwc_filter.nc 5.546019422410722 g m-2\n",
      "Tmin and Tmax: 228.7260316497871 230.75396835021292\n",
      "~~~~~~~~~~~~~~~~~~~~~~~~~~~~~~~~~~~~~~~~\n"
     ]
    },
    {
     "name": "stderr",
     "output_type": "stream",
     "text": [
      "/home/u18/sylvia/.conda/envs/ncplot/lib/python3.6/site-packages/IPython/core/interactiveshell.py:3343: RankWarning: Polyfit may be poorly conditioned\n",
      "  exec(code_obj, self.user_global_ns, self.user_ns)\n"
     ]
    },
    {
     "name": "stdout",
     "output_type": "stream",
     "text": [
      "Tmin and Tmax: 223.3985739796366 226.50142602036337\n",
      "~~~~~~~~~~~~~~~~~~~~~~~~~~~~~~~~~~~~~~~~\n",
      "IWP from CLAMS-Tf_0V2M0A0R_tst00000450_trim_extract_dt_iwc_filter.nc 16.185686569589183 g m-2\n",
      "Tmin and Tmax: 227.540412020923 230.11958797907704\n",
      "~~~~~~~~~~~~~~~~~~~~~~~~~~~~~~~~~~~~~~~~\n",
      "IWP from ICON_0V2M0A0R_tst00000450_trim_extract_dt_filter.nc 7.040041847212978 g m-2\n"
     ]
    }
   ],
   "source": [
    "qiT_covariances = [ 19.994, -6.074, 16.576, -41.505 ]\n",
    "iii = [0, 0, 1, 2]\n",
    "iwp_array = np.zeros((3,))\n",
    "\n",
    "for f, r, j, i in zip(fichiers, RHi_fi, np.arange(4), iii):\n",
    "    fi = xr.open_dataset( basedir + f )\n",
    "    \n",
    "    histvals = 'qiTh_outflow'\n",
    "    cov = qiT_covariances[j]\n",
    "    ym, _, ys, xm, _, xs = centroids( histvals, j )\n",
    "    Tmin, Tmax, _ = stdev_bubble( xm, ym, xs, ys, cov, n_std=0.5 )\n",
    "    \n",
    "    # Convert kg kg-1 to ppmv\n",
    "    qi = fi['qi']\n",
    "    T = fi['T']\n",
    "    #if (j != 1) & (j != 3):\n",
    "    #    P = fi['PE']\n",
    "    #else:\n",
    "    #    P = fi['p']\n",
    "    #time = fi['time']\n",
    "    #qi_ppmv = calc_water( T, P, qi )\n",
    "    #qi_ppmv.name = 'qi_ppmv'\n",
    "    ## Ensure that qi [kg kg-1] is not mistakenly used below\n",
    "    #del qi\n",
    "   \n",
    "    # Filter for non-negligible qi (or now CLaMS RHi) values; side-note: large peak in ICON qi at 10**(-10)\n",
    "    qi = qi.where( (r > RHi_threshold ) & (qi > qi_threshold) )\n",
    "    T = T.where( (r > RHi_threshold ) & (qi > qi_threshold) )\n",
    "    \n",
    "    # stack time and id into a single dimension called allpoints\n",
    "    qi_outflow = qi.where( (T >= Tmin) & (T <= Tmax) ).stack(allpoints=['time','id'])\n",
    "    T_outflow = T.where( (T >= Tmin) & (T <= Tmax) ).stack(allpoints=['time','id'])\n",
    "    \n",
    "    # omit nans\n",
    "    idx = xr.ufuncs.isfinite( qi_outflow )\n",
    "    \n",
    "    # apply the function over allpoints to calculate the trend at each point\n",
    "    #trend = stacked.groupby('allpoints').apply(quadratic_trend)\n",
    "    z = np.polyfit( T_outflow[idx], qi_outflow[idx], 2 )\n",
    "    \n",
    "    # ice water path calculation from this polyfit\n",
    "    T_arr = np.linspace( Tmin, Tmax, 100 )\n",
    "    qi_arr = z[0]*T_arr**2 + z[1]*T_arr + z[2]\n",
    "    #iwp = simps(qi_arr*10**(-6)/0.0055, T_arr ) # here in kg m-2\n",
    "    iwp = 990/6.5*simps( qi_arr, T_arr ) # here in kg m-2\n",
    "    if j != 1:\n",
    "        iwp_array[i] = iwp\n",
    "        print( 'IWP from ' + f + ' ' + str(iwp*1000) + ' g m-2' )"
   ]
  },
  {
   "cell_type": "markdown",
   "metadata": {},
   "source": [
    "# Use the lifetime and the qi-T fitting to perform radiative scalings"
   ]
  },
  {
   "cell_type": "code",
   "execution_count": 22,
   "metadata": {},
   "outputs": [
    {
     "name": "stdout",
     "output_type": "stream",
     "text": [
      "LW heating scaling 1 - 192.13257849326212\n",
      "LW heating scaling 2 - 996.7240663632507\n",
      "LW heating scaling 3 - 276.62017590987807\n",
      "LW heating ratio 1:2 - 0.19276406076387487\n",
      "LW heating ratio 1:3 - 0.6945718180580518\n",
      "LW heating ratio 2:3 - 3.603222588825119\n",
      "~~~~~~~~~~~~~~~~~~~~~~~~~~~~~~~~~~~~~~~~~~~~\n",
      "Not accumulated (no cloud lifetime included)\n",
      "LW heating ratio 1:2 - 0.53091757212623\n",
      "LW heating ratio 1:3 - 0.8423029361782721\n",
      "LW heating ratio 2:3 - 1.5865041588376878\n"
     ]
    }
   ],
   "source": [
    "# Longwave heating scalings\n",
    "kappai = 100\n",
    "HLW1 = (1-np.exp(-kappai*iwp_array[0]))*np.nanmean(lifetime1)\n",
    "HLW2 = (1-np.exp(-kappai*iwp_array[1]))*np.nanmean(lifetime2)\n",
    "HLW3 = (1-np.exp(-kappai*iwp_array[2]))*np.nanmean(lifetime3)\n",
    "print( 'LW heating scaling 1 - ' + str(HLW1) )\n",
    "print( 'LW heating scaling 2 - ' + str(HLW2) )\n",
    "print( 'LW heating scaling 3 - ' + str(HLW3) )\n",
    "\n",
    "HLW12 = (1-np.exp(-kappai*iwp_array[0]))*np.nanmean(lifetime1)/(1-np.exp(-kappai*iwp_array[1]))/np.nanmean(lifetime2)\n",
    "print( 'LW heating ratio 1:2 - ' + str(HLW12) )\n",
    "\n",
    "HLW13 = (1-np.exp(-kappai*iwp_array[0]))*np.nanmean(lifetime1)/(1-np.exp(-kappai*iwp_array[2]))/np.nanmean(lifetime3)\n",
    "print('LW heating ratio 1:3 - ' + str(HLW13) )\n",
    "\n",
    "HLW23 = (1-np.exp(-kappai*iwp_array[1]))*np.nanmean(lifetime2)/(1-np.exp(-kappai*iwp_array[2]))/np.nanmean(lifetime3)\n",
    "print('LW heating ratio 2:3 - ' + str(HLW23) )\n",
    "\n",
    "print('~~~~~~~~~~~~~~~~~~~~~~~~~~~~~~~~~~~~~~~~~~~~')\n",
    "print('Not accumulated (no cloud lifetime included)')\n",
    "HLW12 = (1-np.exp(-kappai*iwp_array[0]))/(1-np.exp(-kappai*iwp_array[1]))\n",
    "print( 'LW heating ratio 1:2 - ' + str(HLW12) )\n",
    "\n",
    "HLW13 = (1-np.exp(-kappai*iwp_array[0]))/(1-np.exp(-kappai*iwp_array[2]))\n",
    "print('LW heating ratio 1:3 - ' + str(HLW13) )\n",
    "\n",
    "HLW23 = (1-np.exp(-kappai*iwp_array[1]))/(1-np.exp(-kappai*iwp_array[2]))\n",
    "print('LW heating ratio 2:3 - ' + str(HLW23) )"
   ]
  },
  {
   "cell_type": "code",
   "execution_count": 24,
   "metadata": {},
   "outputs": [
    {
     "name": "stdout",
     "output_type": "stream",
     "text": [
      "0.677960321211819 0.7108409719391791 0.695843862170264\n",
      "0.8536823625222434 0.8210677931455393 0.8360221698458704\n",
      "0.5546019422410722 1.6185686569589182 0.7040041847212978\n"
     ]
    }
   ],
   "source": [
    "b = [ 0.3159*10**(-4), 0.6289*10**(-4), 0.1237*10**(-6), -0.738*10**(-9) ]  # 1.242-1.299 [um]\n",
    "b = [ 0.2693, 0.4137*10**(-2), -0.3817*10**(-4), 0.123*10**(-6) ]  # 3.077-3.846 [um]\n",
    "#b = [ 0.2075, 0.8103*10**(-3), 0.5698*10**(-5), -0.4896*10**(-7) ] # 2.5-3.077 [um]\n",
    "#b = [ -0.2841*10**(-3), 0.9704*10**(-3), -0.8236*10**(-7), -0.1237*10**(-7) ] # 2.15-2.5 [um]\n",
    "\n",
    "c = [ 0.7717, 0.6579*10**(-3), -0.6515*10**(-6), -0.1075*10**(-7) ] # 1.242-1.299 [um]\n",
    "c = [ 0.8011, 0.4177*10**(-2), -0.4192*10**(-4), 0.1422*10**(-6) ] # 3.077-3.846 [um]\n",
    "#c = [ 0.8837, 0.1185*10**(-2), -0.585*10**(-5), 0.3932*10**(-8) ] # 2.5-3.077 [um]\n",
    "#c = [ 0.8172, 0.1637*10**(-3), 0.1079*10**(-4), -0.6696*10**(-7) ] # 2.15-2.5 [um]\n",
    "\n",
    "De = 14.63\n",
    "omega1 = 1 - (b[0] + b[1]*De + b[2]*De**2 + b[3]*De**3)\n",
    "g1 = c[0] + c[1]*De + c[2]*De**2 + c[3]*De**3\n",
    "\n",
    "De = 5.03\n",
    "omega2 = 1 - (b[0] + b[1]*De + b[2]*De**2 + b[3]*De**3)\n",
    "g2 = c[0] + c[1]*De + c[2]*De**2 + c[3]*De**3\n",
    "\n",
    "De = 9.18\n",
    "omega3 = 1 - (b[0] + b[1]*De + b[2]*De**2 + b[3]*De**3)\n",
    "g3 = c[0] + c[1]*De + c[2]*De**2 + c[3]*De**3\n",
    "\n",
    "print(omega1,omega2,omega3)\n",
    "print(g1,g2,g3)\n",
    "print(kappai*iwp_array[0],kappai*iwp_array[1],kappai*iwp_array[2])"
   ]
  },
  {
   "cell_type": "code",
   "execution_count": 26,
   "metadata": {},
   "outputs": [
    {
     "name": "stdout",
     "output_type": "stream",
     "text": [
      "SW heating scaling 1 - 24.83021850273335\n",
      "SW heating scaling 2 - 255.9123988812378\n",
      "SW heating scaling 3 - 43.96646325147322\n",
      "SW heating ratio 1:2 - 0.09702624261771857\n",
      "SW heating ratio 1:3 - 0.5647536023244112\n",
      "SW heating ratio 2:3 - 5.820627359028309\n",
      "~~~~~~~~~~~~~~~~~~~~~~~~~~~~~~~~~~~~~~~~~~~~\n",
      "Not accumulated (no cloud lifetime included)\n",
      "SW heating ratio 1:2 - 0.2672330981148511\n",
      "SW heating ratio 1:3 - 0.6848731910619352\n",
      "SW heating ratio 2:3 - 2.562830711813966\n"
     ]
    }
   ],
   "source": [
    "# Shortwave cooling scalings\n",
    "# Optical depth = kappai*iwp\n",
    "\n",
    "HSW1 = (omega1*(1-g1)*kappai*iwp_array[0]*np.nanmean(lifetime1))\n",
    "HSW2 = (omega2*(1-g2)*kappai*iwp_array[1]*np.nanmean(lifetime2))\n",
    "HSW3 = (omega3*(1-g3)*kappai*iwp_array[2]*np.nanmean(lifetime3))\n",
    "print( 'SW heating scaling 1 - ' + str(HSW1) )\n",
    "print( 'SW heating scaling 2 - ' + str(HSW2) )\n",
    "print( 'SW heating scaling 3 - ' + str(HSW3) )\n",
    "\n",
    "HSW12 = (omega1*(1-g1)*kappai*iwp_array[0]*np.nanmean(lifetime1))/(omega2*(1-g2)*kappai*iwp_array[1]*np.nanmean(lifetime2))\n",
    "print('SW heating ratio 1:2 - ' + str(HSW12) )\n",
    "\n",
    "HSW13 = (omega1*(1-g1)*kappai*iwp_array[0]*np.nanmean(lifetime1))/(omega3*(1-g3)*kappai*iwp_array[2]*np.nanmean(lifetime3))\n",
    "print('SW heating ratio 1:3 - ' + str(HSW13) )\n",
    "\n",
    "HSW23 = (omega2*(1-g2)*kappai*iwp_array[1]*np.nanmean(lifetime2))/(omega3*(1-g3)*kappai*iwp_array[2]*np.nanmean(lifetime3))\n",
    "print('SW heating ratio 2:3 - ' + str(HSW23) )\n",
    "\n",
    "print('~~~~~~~~~~~~~~~~~~~~~~~~~~~~~~~~~~~~~~~~~~~~')\n",
    "print('Not accumulated (no cloud lifetime included)')\n",
    "HSW12 = (omega1*(1-g1)*kappai*iwp_array[0])/(omega2*(1-g2)*kappai*iwp_array[1])\n",
    "print( 'SW heating ratio 1:2 - ' + str(HSW12) )\n",
    "\n",
    "HSW13 = (omega1*(1-g1)*kappai*iwp_array[0])/(omega3*(1-g3)*kappai*iwp_array[2])\n",
    "print('SW heating ratio 1:3 - ' + str(HSW13) )\n",
    "\n",
    "HSW23 = (omega2*(1-g2)*kappai*iwp_array[1])/(omega3*(1-g3)*kappai*iwp_array[2])\n",
    "print('SW heating ratio 2:3 - ' + str(HSW23) )"
   ]
  },
  {
   "cell_type": "code",
   "execution_count": null,
   "metadata": {},
   "outputs": [],
   "source": []
  }
 ],
 "metadata": {
  "kernelspec": {
   "display_name": "ncplot",
   "language": "python",
   "name": "ncplot"
  },
  "language_info": {
   "codemirror_mode": {
    "name": "ipython",
    "version": 3
   },
   "file_extension": ".py",
   "mimetype": "text/x-python",
   "name": "python",
   "nbconvert_exporter": "python",
   "pygments_lexer": "ipython3",
   "version": "3.6.10"
  }
 },
 "nbformat": 4,
 "nbformat_minor": 4
}
